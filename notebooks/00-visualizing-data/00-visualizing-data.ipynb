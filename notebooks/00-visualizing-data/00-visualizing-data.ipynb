{
 "cells": [
  {
   "cell_type": "code",
   "execution_count": 8,
   "metadata": {},
   "outputs": [],
   "source": [
    "# All the imports you will need in the whole lab\n",
    "from skimage.feature import greycomatrix, greycoprops\n",
    "from skimage import io\n",
    "from skimage.color import rgb2gray\n",
    "import matplotlib.pyplot as plt\n",
    "from mpl_toolkits.mplot3d import Axes3D\n",
    "import os\n",
    "import numpy as np\n",
    "\n",
    "%matplotlib qt\n"
   ]
  },
  {
   "cell_type": "code",
   "execution_count": 9,
   "metadata": {},
   "outputs": [],
   "source": [
    "def getVerticalProjectionProfile(image):\n",
    "    image[image == 0] = 1\n",
    "    image[image == 255] = 0\n",
    "\n",
    "    vertical_projection = np.sum(image, axis=0)\n",
    "    return vertical_projection.mean()\n"
   ]
  },
  {
   "cell_type": "code",
   "execution_count": 10,
   "metadata": {},
   "outputs": [],
   "source": [
    "def get_glcm_features(gray_scale_img):\n",
    "    glcm = greycomatrix(gray_scale_img, distances=[1], angles=[np.pi / 2], levels=256)\n",
    "    contrast = greycoprops(glcm, prop='contrast')\n",
    "    homogeneity = greycoprops(glcm, prop='homogeneity')\n",
    "    # energy = greycoprops(glcm, prop='energy')\n",
    "\n",
    "    return contrast, homogeneity\n"
   ]
  },
  {
   "cell_type": "code",
   "execution_count": 11,
   "metadata": {},
   "outputs": [],
   "source": [
    "def get_fname_images_tuple(directory):\n",
    "    fnames = os.listdir(directory)\n",
    "    to_return = []\n",
    "    for fn in fnames:\n",
    "        if fn[-3:] == 'jpg':\n",
    "            path = os.path.join(directory, fn)\n",
    "            gray_scale_image = (rgb2gray(io.imread(path))\n",
    "                                * 255).astype(np.uint8)\n",
    "            ###################################################################################\n",
    "            ###################################################################################\n",
    "            img_2 = gray_scale_image.copy()\n",
    "            ###################################################################################\n",
    "            ###################################################################################\n",
    "            # if gray_scale_image.mean() < 150:\n",
    "            #     # THIS MEANS IMAGE IS INVERTED\n",
    "            #     img_2[gray_scale_image * 255 > 170] = 0\n",
    "            #     img_2[gray_scale_image * 255 <= 170] = 255\n",
    "            # else:\n",
    "            #     img_2[gray_scale_image * 255 > 170] = 255\n",
    "            #     img_2[gray_scale_image * 255 <= 170] = 0\n",
    "            ###################################################################################\n",
    "            ###################################################################################\n",
    "            to_return.append((fn, img_2))\n",
    "        else:\n",
    "            print('This file has been skipped', fn)\n",
    "    return to_return\n"
   ]
  },
  {
   "cell_type": "code",
   "execution_count": 12,
   "metadata": {},
   "outputs": [],
   "source": [
    "def plot_2d_features_with_names(names_fts_list, xlabel, ylabel, zlabel, colors, class_names):\n",
    "    fig = plt.figure()\n",
    "    # ax = fig.add_subplot()\n",
    "    ax = fig.add_subplot(111, projection='3d')\n",
    "\n",
    "    for class_i in range(len(names_fts_list)):\n",
    "        x = [names_fts[1][0] for names_fts in names_fts_list[class_i]]\n",
    "        y = [names_fts[1][1] for names_fts in names_fts_list[class_i]]\n",
    "        z = [names_fts[2] for names_fts in names_fts_list[class_i]]\n",
    "\n",
    "        # ax.scatter(x, y, color=colors[class_i], label=class_names[class_i])\n",
    "        ax.scatter(x, y, z, color=colors[class_i], label=class_names[class_i])\n",
    "\n",
    "    ax.set_title('Training Data')\n",
    "    ax.set_xlabel(xlabel)\n",
    "    ax.set_ylabel(ylabel)\n",
    "    ax.set_zlabel(zlabel)\n",
    "\n",
    "    handles, labels = ax.get_legend_handles_labels()\n",
    "    unique = list(set(labels))\n",
    "    handles = [handles[labels.index(u)] for u in unique]\n",
    "    labels = [labels[labels.index(u)] for u in unique]\n",
    "\n",
    "    ax.legend(handles, labels)\n",
    "\n",
    "    plt.show()\n"
   ]
  },
  {
   "cell_type": "code",
   "execution_count": 13,
   "metadata": {},
   "outputs": [],
   "source": [
    "def extract_features_from_image(number_of_fonts):\n",
    "    extracted_features = []\n",
    "    for folder_num in range(1, number_of_fonts + 1):\n",
    "        folder_path = \"../data/raw/\" + str(folder_num)\n",
    "        fn_img_list = get_fname_images_tuple(folder_path)\n",
    "\n",
    "        fn_ft_list = []\n",
    "        for fn, img in fn_img_list:\n",
    "            contrast, homogeneity = get_glcm_features(img)\n",
    "            fn_ft_list.append((fn, (contrast, homogeneity), getVerticalProjectionProfile(img)))\n",
    "\n",
    "        extracted_features.append(fn_ft_list)\n",
    "    return extracted_features\n"
   ]
  },
  {
   "cell_type": "code",
   "execution_count": 14,
   "metadata": {},
   "outputs": [
    {
     "ename": "ValueError",
     "evalue": "Unknown projection '3d'",
     "output_type": "error",
     "traceback": [
      "\u001b[1;31m---------------------------------------------------------------------------\u001b[0m",
      "\u001b[1;31mKeyError\u001b[0m                                  Traceback (most recent call last)",
      "\u001b[1;32m~\\anaconda3\\lib\\site-packages\\matplotlib\\projections\\__init__.py\u001b[0m in \u001b[0;36mget_projection_class\u001b[1;34m(projection)\u001b[0m\n\u001b[0;32m     57\u001b[0m     \u001b[1;32mtry\u001b[0m\u001b[1;33m:\u001b[0m\u001b[1;33m\u001b[0m\u001b[1;33m\u001b[0m\u001b[0m\n\u001b[1;32m---> 58\u001b[1;33m         \u001b[1;32mreturn\u001b[0m \u001b[0mprojection_registry\u001b[0m\u001b[1;33m.\u001b[0m\u001b[0mget_projection_class\u001b[0m\u001b[1;33m(\u001b[0m\u001b[0mprojection\u001b[0m\u001b[1;33m)\u001b[0m\u001b[1;33m\u001b[0m\u001b[1;33m\u001b[0m\u001b[0m\n\u001b[0m\u001b[0;32m     59\u001b[0m     \u001b[1;32mexcept\u001b[0m \u001b[0mKeyError\u001b[0m\u001b[1;33m:\u001b[0m\u001b[1;33m\u001b[0m\u001b[1;33m\u001b[0m\u001b[0m\n",
      "\u001b[1;32m~\\anaconda3\\lib\\site-packages\\matplotlib\\projections\\__init__.py\u001b[0m in \u001b[0;36mget_projection_class\u001b[1;34m(self, name)\u001b[0m\n\u001b[0;32m     24\u001b[0m         \"\"\"\n\u001b[1;32m---> 25\u001b[1;33m         \u001b[1;32mreturn\u001b[0m \u001b[0mself\u001b[0m\u001b[1;33m.\u001b[0m\u001b[0m_all_projection_types\u001b[0m\u001b[1;33m[\u001b[0m\u001b[0mname\u001b[0m\u001b[1;33m]\u001b[0m\u001b[1;33m\u001b[0m\u001b[1;33m\u001b[0m\u001b[0m\n\u001b[0m\u001b[0;32m     26\u001b[0m \u001b[1;33m\u001b[0m\u001b[0m\n",
      "\u001b[1;31mKeyError\u001b[0m: '3d'",
      "\nDuring handling of the above exception, another exception occurred:\n",
      "\u001b[1;31mValueError\u001b[0m                                Traceback (most recent call last)",
      "\u001b[1;32m~\\AppData\\Local\\Temp/ipykernel_30360/1364133615.py\u001b[0m in \u001b[0;36m<module>\u001b[1;34m\u001b[0m\n\u001b[0;32m      8\u001b[0m \u001b[1;33m\u001b[0m\u001b[0m\n\u001b[0;32m      9\u001b[0m plot_2d_features_with_names(font_features, 'contrast', 'homogeneity',\n\u001b[1;32m---> 10\u001b[1;33m                             'Vertical Projection Profile Mean', colors, font_names)\n\u001b[0m",
      "\u001b[1;32m~\\AppData\\Local\\Temp/ipykernel_30360/4028628925.py\u001b[0m in \u001b[0;36mplot_2d_features_with_names\u001b[1;34m(names_fts_list, xlabel, ylabel, zlabel, colors, class_names)\u001b[0m\n\u001b[0;32m      2\u001b[0m     \u001b[0mfig\u001b[0m \u001b[1;33m=\u001b[0m \u001b[0mplt\u001b[0m\u001b[1;33m.\u001b[0m\u001b[0mfigure\u001b[0m\u001b[1;33m(\u001b[0m\u001b[1;33m)\u001b[0m\u001b[1;33m\u001b[0m\u001b[1;33m\u001b[0m\u001b[0m\n\u001b[0;32m      3\u001b[0m     \u001b[1;31m# ax = fig.add_subplot()\u001b[0m\u001b[1;33m\u001b[0m\u001b[1;33m\u001b[0m\u001b[1;33m\u001b[0m\u001b[0m\n\u001b[1;32m----> 4\u001b[1;33m     \u001b[0max\u001b[0m \u001b[1;33m=\u001b[0m \u001b[0mfig\u001b[0m\u001b[1;33m.\u001b[0m\u001b[0madd_subplot\u001b[0m\u001b[1;33m(\u001b[0m\u001b[1;36m111\u001b[0m\u001b[1;33m,\u001b[0m \u001b[0mprojection\u001b[0m\u001b[1;33m=\u001b[0m\u001b[1;34m'3d'\u001b[0m\u001b[1;33m)\u001b[0m\u001b[1;33m\u001b[0m\u001b[1;33m\u001b[0m\u001b[0m\n\u001b[0m\u001b[0;32m      5\u001b[0m \u001b[1;33m\u001b[0m\u001b[0m\n\u001b[0;32m      6\u001b[0m     \u001b[1;32mfor\u001b[0m \u001b[0mclass_i\u001b[0m \u001b[1;32min\u001b[0m \u001b[0mrange\u001b[0m\u001b[1;33m(\u001b[0m\u001b[0mlen\u001b[0m\u001b[1;33m(\u001b[0m\u001b[0mnames_fts_list\u001b[0m\u001b[1;33m)\u001b[0m\u001b[1;33m)\u001b[0m\u001b[1;33m:\u001b[0m\u001b[1;33m\u001b[0m\u001b[1;33m\u001b[0m\u001b[0m\n",
      "\u001b[1;32m~\\anaconda3\\lib\\site-packages\\matplotlib\\figure.py\u001b[0m in \u001b[0;36madd_subplot\u001b[1;34m(self, *args, **kwargs)\u001b[0m\n\u001b[0;32m   1394\u001b[0m         \u001b[1;32melse\u001b[0m\u001b[1;33m:\u001b[0m\u001b[1;33m\u001b[0m\u001b[1;33m\u001b[0m\u001b[0m\n\u001b[0;32m   1395\u001b[0m             \u001b[0mprojection_class\u001b[0m\u001b[1;33m,\u001b[0m \u001b[0mkwargs\u001b[0m\u001b[1;33m,\u001b[0m \u001b[0mkey\u001b[0m \u001b[1;33m=\u001b[0m\u001b[0;31m \u001b[0m\u001b[0;31m\\\u001b[0m\u001b[1;33m\u001b[0m\u001b[1;33m\u001b[0m\u001b[0m\n\u001b[1;32m-> 1396\u001b[1;33m                 \u001b[0mself\u001b[0m\u001b[1;33m.\u001b[0m\u001b[0m_process_projection_requirements\u001b[0m\u001b[1;33m(\u001b[0m\u001b[1;33m*\u001b[0m\u001b[0margs\u001b[0m\u001b[1;33m,\u001b[0m \u001b[1;33m**\u001b[0m\u001b[0mkwargs\u001b[0m\u001b[1;33m)\u001b[0m\u001b[1;33m\u001b[0m\u001b[1;33m\u001b[0m\u001b[0m\n\u001b[0m\u001b[0;32m   1397\u001b[0m \u001b[1;33m\u001b[0m\u001b[0m\n\u001b[0;32m   1398\u001b[0m             \u001b[1;31m# try to find the axes with this key in the stack\u001b[0m\u001b[1;33m\u001b[0m\u001b[1;33m\u001b[0m\u001b[1;33m\u001b[0m\u001b[0m\n",
      "\u001b[1;32m~\\anaconda3\\lib\\site-packages\\matplotlib\\figure.py\u001b[0m in \u001b[0;36m_process_projection_requirements\u001b[1;34m(self, polar, projection, *args, **kwargs)\u001b[0m\n\u001b[0;32m   1118\u001b[0m \u001b[1;33m\u001b[0m\u001b[0m\n\u001b[0;32m   1119\u001b[0m         \u001b[1;32mif\u001b[0m \u001b[0misinstance\u001b[0m\u001b[1;33m(\u001b[0m\u001b[0mprojection\u001b[0m\u001b[1;33m,\u001b[0m \u001b[0mstr\u001b[0m\u001b[1;33m)\u001b[0m \u001b[1;32mor\u001b[0m \u001b[0mprojection\u001b[0m \u001b[1;32mis\u001b[0m \u001b[1;32mNone\u001b[0m\u001b[1;33m:\u001b[0m\u001b[1;33m\u001b[0m\u001b[1;33m\u001b[0m\u001b[0m\n\u001b[1;32m-> 1120\u001b[1;33m             \u001b[0mprojection_class\u001b[0m \u001b[1;33m=\u001b[0m \u001b[0mprojections\u001b[0m\u001b[1;33m.\u001b[0m\u001b[0mget_projection_class\u001b[0m\u001b[1;33m(\u001b[0m\u001b[0mprojection\u001b[0m\u001b[1;33m)\u001b[0m\u001b[1;33m\u001b[0m\u001b[1;33m\u001b[0m\u001b[0m\n\u001b[0m\u001b[0;32m   1121\u001b[0m         \u001b[1;32melif\u001b[0m \u001b[0mhasattr\u001b[0m\u001b[1;33m(\u001b[0m\u001b[0mprojection\u001b[0m\u001b[1;33m,\u001b[0m \u001b[1;34m'_as_mpl_axes'\u001b[0m\u001b[1;33m)\u001b[0m\u001b[1;33m:\u001b[0m\u001b[1;33m\u001b[0m\u001b[1;33m\u001b[0m\u001b[0m\n\u001b[0;32m   1122\u001b[0m             \u001b[0mprojection_class\u001b[0m\u001b[1;33m,\u001b[0m \u001b[0mextra_kwargs\u001b[0m \u001b[1;33m=\u001b[0m \u001b[0mprojection\u001b[0m\u001b[1;33m.\u001b[0m\u001b[0m_as_mpl_axes\u001b[0m\u001b[1;33m(\u001b[0m\u001b[1;33m)\u001b[0m\u001b[1;33m\u001b[0m\u001b[1;33m\u001b[0m\u001b[0m\n",
      "\u001b[1;32m~\\anaconda3\\lib\\site-packages\\matplotlib\\projections\\__init__.py\u001b[0m in \u001b[0;36mget_projection_class\u001b[1;34m(projection)\u001b[0m\n\u001b[0;32m     58\u001b[0m         \u001b[1;32mreturn\u001b[0m \u001b[0mprojection_registry\u001b[0m\u001b[1;33m.\u001b[0m\u001b[0mget_projection_class\u001b[0m\u001b[1;33m(\u001b[0m\u001b[0mprojection\u001b[0m\u001b[1;33m)\u001b[0m\u001b[1;33m\u001b[0m\u001b[1;33m\u001b[0m\u001b[0m\n\u001b[0;32m     59\u001b[0m     \u001b[1;32mexcept\u001b[0m \u001b[0mKeyError\u001b[0m\u001b[1;33m:\u001b[0m\u001b[1;33m\u001b[0m\u001b[1;33m\u001b[0m\u001b[0m\n\u001b[1;32m---> 60\u001b[1;33m         \u001b[1;32mraise\u001b[0m \u001b[0mValueError\u001b[0m\u001b[1;33m(\u001b[0m\u001b[1;34m\"Unknown projection %r\"\u001b[0m \u001b[1;33m%\u001b[0m \u001b[0mprojection\u001b[0m\u001b[1;33m)\u001b[0m\u001b[1;33m\u001b[0m\u001b[1;33m\u001b[0m\u001b[0m\n\u001b[0m\u001b[0;32m     61\u001b[0m \u001b[1;33m\u001b[0m\u001b[0m\n\u001b[0;32m     62\u001b[0m \u001b[1;33m\u001b[0m\u001b[0m\n",
      "\u001b[1;31mValueError\u001b[0m: Unknown projection '3d'"
     ]
    }
   ],
   "source": [
    "number_of_fonts = 9\n",
    "colors = ['darkblue', 'green', 'blue', 'yellow',\n",
    "          'aqua', '#b03060', 'hotpink', 'navajowhite', 'red']\n",
    "font_names = ['diwani', 'naskh', 'parsi', 'rekaa',\n",
    "              'thuluth', 'maghribi', 'kufi', 'mohakek', 'Squar-kufic']\n",
    "\n",
    "font_features = extract_features_from_image(number_of_fonts)\n",
    "\n",
    "plot_2d_features_with_names(font_features, 'contrast', 'homogeneity',\n",
    "                            'Vertical Projection Profile Mean', colors, font_names)\n"
   ]
  }
 ],
 "metadata": {
  "interpreter": {
   "hash": "6bf67eb5649b087681366e5c87d7551c4ee35afbc53ff41b1cc832c704232f8c"
  },
  "kernelspec": {
   "display_name": "Python 3.7.6 64-bit ('base': conda)",
   "name": "python3"
  },
  "language_info": {
   "codemirror_mode": {
    "name": "ipython",
    "version": 3
   },
   "file_extension": ".py",
   "mimetype": "text/x-python",
   "name": "python",
   "nbconvert_exporter": "python",
   "pygments_lexer": "ipython3",
   "version": "3.8.8"
  },
  "orig_nbformat": 4
 },
 "nbformat": 4,
 "nbformat_minor": 2
}
