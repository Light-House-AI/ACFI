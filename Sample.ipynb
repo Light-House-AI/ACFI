{
 "cells": [
  {
   "cell_type": "code",
   "execution_count": 11,
   "metadata": {},
   "outputs": [],
   "source": [
    "# All the imports you will need in the whole lab\n",
    "from skimage.feature import greycomatrix, greycoprops\n",
    "from skimage import io\n",
    "from skimage.color import rgb2gray\n",
    "import matplotlib.pyplot as plt\n",
    "import os\n",
    "import numpy as np\n",
    "\n",
    "%matplotlib qt"
   ]
  },
  {
   "cell_type": "code",
   "execution_count": 12,
   "metadata": {},
   "outputs": [],
   "source": [
    "def getVerticalProjectionProfile(image):\n",
    "    image[image == 0] = 1\n",
    "    image[image == 255] = 0\n",
    "  \n",
    "    vertical_projection = np.sum(image, axis = 0)\n",
    "    return vertical_projection.mean()"
   ]
  },
  {
   "cell_type": "code",
   "execution_count": 13,
   "metadata": {},
   "outputs": [],
   "source": [
    "def getHorizontalProjectionProfile(image):\n",
    "    image[image == 0] = 1\n",
    "    image[image == 255] = 0\n",
    "  \n",
    "    horizontal_projection = np.sum(image, axis = 1) \n",
    "    return horizontal_projection.mean()"
   ]
  },
  {
   "cell_type": "code",
   "execution_count": 14,
   "metadata": {},
   "outputs": [],
   "source": [
    "def get_glcm_features(gray_scale_img):\n",
    "    glcm = greycomatrix(gray_scale_img, distances=[1], angles=[0], levels=256)\n",
    "    contrast = greycoprops(glcm, prop='contrast')\n",
    "    homogeneity = greycoprops(glcm, prop='homogeneity')\n",
    "    \n",
    "    return contrast, homogeneity"
   ]
  },
  {
   "cell_type": "code",
   "execution_count": 15,
   "metadata": {},
   "outputs": [],
   "source": [
    "def get_fname_images_tuple(directory):\n",
    "    fnames = os.listdir(directory)\n",
    "    to_return = []\n",
    "    for fn in fnames:\n",
    "        if fn[-3:] == 'jpg':\n",
    "            path = os.path.join(directory, fn)\n",
    "            gray_scale_image = (rgb2gray(io.imread(path)) * 255).astype(np.uint8)\n",
    "            ###################################################################################\n",
    "            ###################################################################################\n",
    "            img_2 = gray_scale_image.copy()\n",
    "            ###################################################################################\n",
    "            ###################################################################################\n",
    "            if gray_scale_image.mean() < 150:\n",
    "                # THIS MEANS IMAGE IS INVERTED\n",
    "                img_2[gray_scale_image * 255 > 170] = 0\n",
    "                img_2[gray_scale_image * 255 <= 170] = 255\n",
    "            else:\n",
    "                img_2[gray_scale_image * 255 > 170] = 255 \n",
    "                img_2[gray_scale_image * 255 <= 170] = 0 \n",
    "            ###################################################################################\n",
    "            ###################################################################################\n",
    "            to_return.append((fn, img_2))\n",
    "        else:\n",
    "            print('This file has been skipped', fn)\n",
    "    return to_return"
   ]
  },
  {
   "cell_type": "code",
   "execution_count": 16,
   "metadata": {},
   "outputs": [],
   "source": [
    "def plot_2d_features_with_names(names_fts_list, xlabel, ylabel, zlabel, colors, class_names):   \n",
    "    fig = plt.figure()\n",
    "    # ax = fig.add_subplot()\n",
    "    ax = fig.add_subplot(111, projection='3d')\n",
    "    \n",
    "    for class_i in range(len(names_fts_list)):\n",
    "        x = [names_fts[1][0] for names_fts in names_fts_list[class_i]]\n",
    "        y = [names_fts[1][1] for names_fts in names_fts_list[class_i]]\n",
    "        z = names_fts_list[class_i][0][2]\n",
    "        \n",
    "        # ax.scatter(x, y, color=colors[class_i], label=class_names[class_i])\n",
    "        ax.scatter(x, y, z, color=colors[class_i], label=class_names[class_i])\n",
    "        \n",
    "    ax.set_title('Training Data')\n",
    "    ax.set_xlabel(xlabel)\n",
    "    ax.set_ylabel(ylabel)\n",
    "    ax.set_zlabel(zlabel)\n",
    "\n",
    "    handles, labels = ax.get_legend_handles_labels()\n",
    "    unique = list(set(labels))\n",
    "    handles = [handles[labels.index(u)] for u in unique]\n",
    "    labels = [labels[labels.index(u)] for u in unique]\n",
    "\n",
    "    ax.legend(handles, labels)\n",
    "\n",
    "    plt.show()"
   ]
  },
  {
   "cell_type": "code",
   "execution_count": 17,
   "metadata": {},
   "outputs": [],
   "source": [
    "def extract_features_from_image(number_of_fonts):\n",
    "    extracted_features = []\n",
    "    for folder_num in range(1, number_of_fonts + 1):\n",
    "        folder_path = \".\\\\ACdata_base\\\\\" + str(folder_num)\n",
    "        fn_img_list = get_fname_images_tuple(folder_path)\n",
    "\n",
    "        fn_ft_list = []\n",
    "        for fn, img in fn_img_list:\n",
    "            fn_ft_list.append((fn, get_glcm_features(img), getVerticalProjectionProfile(img)))\n",
    "        \n",
    "        extracted_features.append(fn_ft_list)\n",
    "    return extracted_features"
   ]
  },
  {
   "cell_type": "code",
   "execution_count": 18,
   "metadata": {},
   "outputs": [],
   "source": [
    "# STILL NOT USED\n",
    "def calculateDistance(x1, x2):\n",
    "    distance = np.linalg.norm(np.asarray(x1) - np.asarray(x2))\n",
    "    return distance"
   ]
  },
  {
   "cell_type": "code",
   "execution_count": 19,
   "metadata": {},
   "outputs": [],
   "source": [
    "# STILL NOT USED\n",
    "def MinimumDistanceClassifier(test_point, training_features):\n",
    "    distances = []\n",
    "    for class_i in range(len(training_features)):\n",
    "        a_class = training_features[class_i]\n",
    "        class_mean = []\n",
    "        class_mean = np.mean(a_class, axis=0)\n",
    "        distances.append(calculateDistance(test_point, class_mean))\n",
    "\n",
    "    classification = np.argmin(distances)\n",
    "    \n",
    "    return classification"
   ]
  },
  {
   "cell_type": "code",
   "execution_count": 20,
   "metadata": {},
   "outputs": [
    {
     "name": "stderr",
     "output_type": "stream",
     "text": [
      "<ipython-input-15-0fcbede57a2a>:7: FutureWarning: The behavior of rgb2gray will change in scikit-image 0.19. Currently, rgb2gray allows 2D grayscale image to be passed as inputs and leaves them unmodified as outputs. Starting from version 0.19, 2D arrays will be treated as 1D images with 3 channels.\n",
      "  gray_scale_image = (rgb2gray(io.imread(path)) * 255).astype(np.uint8)\n"
     ]
    }
   ],
   "source": [
    "number_of_fonts = 9\n",
    "colors = ['darkblue', 'green', 'blue', 'yellow', 'aqua', '#b03060', 'hotpink', 'navajowhite', 'red']\n",
    "font_names = ['diwani', 'naskh', 'parsi', 'rekaa', 'thuluth', 'maghribi', 'kufi', 'mohakek', 'Squar-kufic']\n",
    "\n",
    "font_features = extract_features_from_image(number_of_fonts)\n",
    "    \n",
    "plot_2d_features_with_names(font_features, 'contrast', 'homogeneity', 'Vertical Projection Profile Mean', colors, font_names)"
   ]
  }
 ],
 "metadata": {
  "interpreter": {
   "hash": "e2bd8c26a442d44da6f77d71c63a5d5ec634807a3105e8450172857d10d915d3"
  },
  "kernelspec": {
   "display_name": "Python 3.8.8 64-bit ('base': conda)",
   "language": "python",
   "name": "python3"
  },
  "language_info": {
   "codemirror_mode": {
    "name": "ipython",
    "version": 3
   },
   "file_extension": ".py",
   "mimetype": "text/x-python",
   "name": "python",
   "nbconvert_exporter": "python",
   "pygments_lexer": "ipython3",
   "version": "3.8.8"
  },
  "orig_nbformat": 4
 },
 "nbformat": 4,
 "nbformat_minor": 2
}
